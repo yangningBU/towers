{
 "cells": [
  {
   "cell_type": "code",
   "execution_count": 1,
   "metadata": {},
   "outputs": [],
   "source": [
    "import numpy as np\n",
    "\n",
    "board = np.array([\n",
    "    [6,3,2,4,5,1],\n",
    "    [4,5,1,6,3,2],\n",
    "    [1,2,4,3,6,5],\n",
    "    [2,6,3,5,1,4],\n",
    "    [3,1,5,2,4,6],\n",
    "    [5,4,6,1,2,3]\n",
    "])"
   ]
  },
  {
   "cell_type": "code",
   "execution_count": 2,
   "metadata": {},
   "outputs": [],
   "source": [
    "# Possible Solution 1:\n",
    "red = np.array([\n",
    "    [6,'R3',2,4,5,1],\n",
    "    [4,5,'R1',6,3,2],\n",
    "    [1,2,4,3,'R6',5],\n",
    "    [2,6,3,5,1,'R4'],\n",
    "    [3,1,5,'R2',4,6],\n",
    "    ['R5',4,6,1,2,3]\n",
    "])"
   ]
  },
  {
   "cell_type": "code",
   "execution_count": 3,
   "metadata": {},
   "outputs": [],
   "source": [
    "# Possible Solution 2:\n",
    "yellow = np.array([\n",
    "    [6,3,2,4,'Y5',1],\n",
    "    ['Y4',5,1,6,3,2],\n",
    "    [1,'Y2',4,3,6,5],\n",
    "    [2,6,'Y3',5,1,4],\n",
    "    [3,1,5,2,4,'Y6'],\n",
    "    [5,4,6,'Y1',2,3]\n",
    "])"
   ]
  },
  {
   "cell_type": "code",
   "execution_count": 4,
   "metadata": {},
   "outputs": [],
   "source": [
    "# Possible Solution 3:\n",
    "purple = np.array([\n",
    "    [6,3,2,4,'P5',1],\n",
    "    [4,5,1,6,3,'P2'],\n",
    "    [1,2,'P4',3,6,5],\n",
    "    [2,'P6',3,5,1,4],\n",
    "    ['P3',1,5,2,4,6],\n",
    "    [5,4,6,'P1',2,3]\n",
    "])"
   ]
  },
  {
   "cell_type": "code",
   "execution_count": 5,
   "metadata": {},
   "outputs": [],
   "source": [
    "# Note that solutions 1 and 2 are compatible, as are solutions 1 and 3 BUT\n",
    "# solutions 2 and 3 are not compatible with each other since they both need\n",
    "# the 1 in the bottom\n",
    "#\n",
    "# GOAL: find all the combinations there are on the board that don't require a move that's alreay been taken\n",
    "# keeping in mind that the first solution you find need to be discarded"
   ]
  },
  {
   "cell_type": "code",
   "execution_count": 6,
   "metadata": {},
   "outputs": [],
   "source": [
    "# PS4\n",
    "green = np.array([\n",
    "    ['G6',3,2,4,5,1],\n",
    "    [4,5,1,6,3,'G2'],\n",
    "    [1,2,4,'G3',6,5],\n",
    "    [2,6,3,5,'G1',4],\n",
    "    [3,1,'G5',2,4,6],\n",
    "    [5,'G4',6,1,2,3]\n",
    "])"
   ]
  },
  {
   "cell_type": "code",
   "execution_count": 7,
   "metadata": {},
   "outputs": [],
   "source": [
    "# PS5\n",
    "orange = np.array([\n",
    "    [6,3,2,'O4',5,1],\n",
    "    [4,5,'O1',6,3,2],\n",
    "    [1,2,4,3,6,'O5'],\n",
    "    [2,'O6',3,5,1,4],\n",
    "    ['O3',1,5,2,4,6],\n",
    "    [5,4,6,1,'O2',3]\n",
    "])\n",
    "# not compatible with red"
   ]
  },
  {
   "cell_type": "code",
   "execution_count": null,
   "metadata": {},
   "outputs": [],
   "source": [
    "pieces = [1,2,3,4,5,6]\n",
    "for piece in pieces:\n",
    "    # find the first available spot:\n",
    "    # shares the same height value\n",
    "    # isn't already occupied\n",
    "    # placing it there means there aren't any other pieces from the same set in the same row or column"
   ]
  },
  {
   "cell_type": "code",
   "execution_count": 8,
   "metadata": {},
   "outputs": [
    {
     "data": {
      "text/plain": [
       "46656"
      ]
     },
     "execution_count": 8,
     "metadata": {},
     "output_type": "execute_result"
    }
   ],
   "source": [
    "6**6"
   ]
  },
  {
   "cell_type": "code",
   "execution_count": null,
   "metadata": {},
   "outputs": [],
   "source": []
  }
 ],
 "metadata": {
  "kernelspec": {
   "display_name": "Python 3",
   "language": "python",
   "name": "python3"
  },
  "language_info": {
   "codemirror_mode": {
    "name": "ipython",
    "version": 3
   },
   "file_extension": ".py",
   "mimetype": "text/x-python",
   "name": "python",
   "nbconvert_exporter": "python",
   "pygments_lexer": "ipython3",
   "version": "3.8.3"
  }
 },
 "nbformat": 4,
 "nbformat_minor": 4
}
